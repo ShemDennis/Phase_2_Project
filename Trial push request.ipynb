{
 "cells": [
  {
   "cell_type": "markdown",
   "id": "5f529ac0-c322-4884-a0e9-0f573f01d922",
   "metadata": {},
   "source": [
    "#importing the Necessary Libraries\n",
    "import numpy as np\n",
    "import pandas as pd\n",
    "import sqlite3\n",
    "import matplotlib.pyplot as plt\n",
    "%matplotlib inline\n",
    "import seaborn as sns"
   ]
  },
  {
   "cell_type": "code",
   "execution_count": null,
   "id": "aeefaacf-3218-4c73-89ed-fc65f8eb7b63",
   "metadata": {},
   "outputs": [],
   "source": [
    "#My Proposed Dataset to Use\n",
    "#The database (im.db.zip)\n",
    "#tn.movie_budgets.csv.gz\n",
    "#tmdb.movies.csv.gz\n",
    "#rt.reviews.tsv.gz"
   ]
  }
 ],
 "metadata": {
  "kernelspec": {
   "display_name": "Python (learn_env)",
   "language": "python",
   "name": "learn-env"
  },
  "language_info": {
   "codemirror_mode": {
    "name": "ipython",
    "version": 3
   },
   "file_extension": ".py",
   "mimetype": "text/x-python",
   "name": "python",
   "nbconvert_exporter": "python",
   "pygments_lexer": "ipython3",
   "version": "3.12.4"
  }
 },
 "nbformat": 4,
 "nbformat_minor": 5
}
